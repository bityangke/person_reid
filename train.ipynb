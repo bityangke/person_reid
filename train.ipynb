{
 "cells": [
  {
   "cell_type": "code",
   "execution_count": 1,
   "metadata": {},
   "outputs": [
    {
     "name": "stderr",
     "output_type": "stream",
     "text": [
      "/home/julian/anaconda3/lib/python3.6/site-packages/h5py/__init__.py:36: FutureWarning: Conversion of the second argument of issubdtype from `float` to `np.floating` is deprecated. In future, it will be treated as `np.float64 == np.dtype(float).type`.\n",
      "  from ._conv import register_converters as _register_converters\n",
      "Using TensorFlow backend.\n"
     ]
    },
    {
     "name": "stdout",
     "output_type": "stream",
     "text": [
      "/media/julian/Maxtor/DATA/pak/cuhk03_release found :)\n",
      "/media/julian/Maxtor/DATA/pak/Market-1501-v15.09.15 found :)\n",
      "/media/julian/Maxtor/DATA/pak/DukeMTMC-reID found :)\n",
      "found memmaped /media/julian/Maxtor/DATA/pak/cuhk03_release/labeled64x64.npy\n",
      "(cuhk) positive test pairs: 9290\n",
      "(cuhk) positive train pairs: 127242\n",
      "flush memmaped /media/julian/Maxtor/DATA/pak/Market-1501-v15.09.15/bounding_box_test64x64.npy\n",
      "flush memmaped /media/julian/Maxtor/DATA/pak/Market-1501-v15.09.15/bounding_box_train64x64.npy\n",
      "(market) positive test pairs:  300631\n",
      "(market) positive train pairs:  309874\n",
      "create memmap /media/julian/Maxtor/DATA/pak/DukeMTMC-reID/bounding_box_test64x64.npy\n",
      "flush memmaped /media/julian/Maxtor/DATA/pak/DukeMTMC-reID/bounding_box_test64x64.npy\n",
      "create memmap /media/julian/Maxtor/DATA/pak/DukeMTMC-reID/bounding_box_train64x64.npy\n",
      "flush memmaped /media/julian/Maxtor/DATA/pak/DukeMTMC-reID/bounding_box_train64x64.npy\n",
      "(duke) positive test pairs:  926089\n",
      "(duke) positive train pairs:  749270\n"
     ]
    }
   ],
   "source": [
    "import sys\n",
    "sys.path.insert(0, '../')\n",
    "from reid.stacknet import get_model\n",
    "from reid.data import DataSampler\n",
    "\n",
    "from keras.callbacks import ModelCheckpoint, TerminateOnNaN\n",
    "from keras.models import load_model\n",
    "from keras.applications.vgg16 import preprocess_input\n",
    "from os.path import join, isfile, isdir, exists, splitext\n",
    "\n",
    "model = get_model()\n",
    "#model.summary()\n",
    "\n",
    "root = '/media/julian/Maxtor/DATA/pak'\n",
    "\n",
    "sampler = DataSampler(root, 64, 64)"
   ]
  }
 ],
 "metadata": {
  "kernelspec": {
   "display_name": "Python 3",
   "language": "python",
   "name": "python3"
  },
  "language_info": {
   "codemirror_mode": {
    "name": "ipython",
    "version": 3
   },
   "file_extension": ".py",
   "mimetype": "text/x-python",
   "name": "python",
   "nbconvert_exporter": "python",
   "pygments_lexer": "ipython3",
   "version": "3.6.4"
  }
 },
 "nbformat": 4,
 "nbformat_minor": 2
}
