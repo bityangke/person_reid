{
 "cells": [
  {
   "cell_type": "markdown",
   "metadata": {},
   "source": [
    "## Market1501 / cuhk03 "
   ]
  },
  {
   "cell_type": "code",
   "execution_count": null,
   "metadata": {
    "scrolled": false
   },
   "outputs": [],
   "source": [
    "%matplotlib inline\n",
    "import json\n",
    "from pprint import pprint\n",
    "Settings = json.load(open('settings.txt'))\n",
    "pprint(Settings)\n",
    "print('')\n",
    "import matplotlib.pyplot as plt\n",
    "import sys\n",
    "sys.path.insert(0, '../')\n",
    "from reid.stacknet import get_model\n",
    "from reid.data import DataSampler\n",
    "\n",
    "from keras.callbacks import ModelCheckpoint, TerminateOnNaN\n",
    "from keras.models import load_model\n",
    "from keras.applications.vgg16 import preprocess_input\n",
    "from os.path import join, isfile, isdir, exists, splitext\n",
    "\n",
    "root = Settings['data_root']\n",
    "\n",
    "# target_w = 221\n",
    "# target_h = 221\n",
    "target_w = 221\n",
    "target_h = 221\n",
    "\n",
    "\n",
    "sampler = DataSampler(root, target_w, target_h)\n",
    "\n",
    "npos = 3\n",
    "nneg = 3\n",
    "x, y = sampler.get_test_batch(npos, nneg)\n",
    "#n = npos + nneg\n",
    "n = len(x)\n",
    "print(x.shape)\n",
    "\n",
    "fig = plt.figure(figsize=(6, 20))\n",
    "for pid in range(n):\n",
    "    print('is same:', y[pid])\n",
    "    im = x[pid]\n",
    "    ax = fig.add_subplot(n, 2, pid*2+1); ax.axis('off')\n",
    "    ax.imshow(im[:,:,0:3])\n",
    "    ax = fig.add_subplot(n, 2, pid*2+2); ax.axis('off')\n",
    "    ax.imshow(im[:,:,3:6])\n",
    "plt.show()"
   ]
  },
  {
   "cell_type": "markdown",
   "metadata": {},
   "source": [
    "## UMPM dataset"
   ]
  },
  {
   "cell_type": "code",
   "execution_count": null,
   "metadata": {},
   "outputs": [],
   "source": [
    "from time import time\n",
    "from reid.data import UMPMSampler\n",
    "\n",
    "root = Settings['data_root']\n",
    "print(root)\n",
    "\n",
    "user = Settings['UMPM']['username']\n",
    "pwd = Settings['UMPM']['password']\n",
    "umpm_sampler = UMPMSampler(root, ['p2_chair_2'], user, pwd, target_w, target_h)\n",
    "\n",
    "\n",
    "_start = time()\n",
    "x, y = umpm_sampler.get_train()\n",
    "_end = time()\n",
    "print('elapsed', _end - _start)\n",
    "\n",
    "print('same', y[0])\n",
    "\n",
    "print(x.shape)\n",
    "\n",
    "fig = plt.figure(figsize=(8,8))\n",
    "ax = fig.add_subplot(121)\n",
    "ax.imshow(x[0, :, :, 0:3].astype('uint8'))\n",
    "ax = fig.add_subplot(122)\n",
    "ax.imshow(x[0, :, :, 3:6].astype('uint8'))\n",
    "plt.show()"
   ]
  },
  {
   "cell_type": "markdown",
   "metadata": {},
   "source": [
    "## MOT16 dataset"
   ]
  },
  {
   "cell_type": "code",
   "execution_count": null,
   "metadata": {},
   "outputs": [],
   "source": [
    "from reid.data import MOT16Sampler\n",
    "\n",
    "mot_sampler = MOT16Sampler(root, target_w, target_h)\n",
    "\n",
    "\n",
    "_start = time()\n",
    "x, y = mot_sampler.sample()\n",
    "_end = time()\n",
    "print('elapsed', _end - _start)\n",
    "\n",
    "print('same', y[0])\n",
    "\n",
    "fig = plt.figure(figsize=(8,8))\n",
    "ax = fig.add_subplot(121)\n",
    "ax.imshow(x[0,:,:,0:3].astype('uint8'))\n",
    "ax = fig.add_subplot(122)\n",
    "ax.imshow(x[0,:,:,3:6].astype('uint8'))\n",
    "plt.show()"
   ]
  },
  {
   "cell_type": "code",
   "execution_count": null,
   "metadata": {},
   "outputs": [],
   "source": [
    "from reid.data import Data\n",
    "import numpy as np\n",
    "root = Settings['data_root']\n",
    "user = Settings['UMPM']['username']\n",
    "pwd = Settings['UMPM']['password']\n",
    "\n",
    "\n",
    "sampler = Data(root, target_w, target_h, user, pwd)\n",
    "print('------------')\n",
    "\n",
    "\n",
    "x, y = sampler.train()\n",
    "\n",
    "fig = plt.figure(figsize=(16,20))\n",
    "for idx, im in enumerate(x):\n",
    "    ax = fig.add_subplot(8, 4, idx+1); ax.axis('off')\n",
    "    Im = np.concatenate([im[:,:,0:3], im[:,:,3:6]], axis=1).astype('uint8')\n",
    "    ax.imshow(Im)\n",
    "    ax.set_title(str(y[idx]))\n",
    "    \n",
    "plt.show()"
   ]
  },
  {
   "cell_type": "code",
   "execution_count": null,
   "metadata": {},
   "outputs": [],
   "source": [
    "x, y = sampler.train()\n",
    "\n",
    "fig = plt.figure(figsize=(16,20))\n",
    "for idx, im in enumerate(x):\n",
    "    ax = fig.add_subplot(8, 4, idx+1); ax.axis('off')\n",
    "    Im = np.concatenate([im[:,:,0:3], im[:,:,3:6]], axis=1).astype('uint8')\n",
    "    ax.imshow(Im)\n",
    "    ax.set_title(str(y[idx]))\n",
    "    \n",
    "plt.show()"
   ]
  },
  {
   "cell_type": "code",
   "execution_count": null,
   "metadata": {},
   "outputs": [],
   "source": [
    "from keras.applications.densenet import preprocess_input\n",
    "\n",
    "def generate_training():\n",
    "    global sampler\n",
    "    while True:\n",
    "        X, Y = sampler.train(add_noise=True)\n",
    "        X_a = preprocess_input(X[:,:,:,0:3])\n",
    "        X_b = preprocess_input(X[:,:,:,3:6])\n",
    "        yield ([X_a, X_b], Y[:, 0])\n",
    "        \n",
    "def generate_test():\n",
    "    global sampler\n",
    "    while True:\n",
    "        X, Y = sampler.test()\n",
    "        X_a = preprocess_input(X[:,:,:,0:3])\n",
    "        X_b = preprocess_input(X[:,:,:,3:6])\n",
    "        yield ([X_a, X_b], Y[:, 0])\n",
    "\n",
    "        \n",
    "# ------------------------\n",
    "gen = generate_training()\n",
    "\n",
    "(Xa, Xb), Y = next(gen)\n",
    "\n",
    "i = 0\n",
    "print(\"y:\", Y[i])\n",
    "\n",
    "fig = plt.figure(figsize=(8, 8))\n",
    "ax = fig.add_subplot(121); ax.axis(\"off\")\n",
    "ax.imshow(Xa[i])\n",
    "ax = fig.add_subplot(122); ax.axis(\"off\")\n",
    "ax.imshow(Xb[i])\n",
    "\n",
    "plt.show()"
   ]
  },
  {
   "cell_type": "markdown",
   "metadata": {},
   "source": [
    "## Training"
   ]
  },
  {
   "cell_type": "code",
   "execution_count": null,
   "metadata": {},
   "outputs": [],
   "source": [
    "from keras.applications.densenet import DenseNet121, preprocess_input\n",
    "from keras.models import Sequential, Model\n",
    "from keras.layers import Dense, Dropout, Input, Lambda, Flatten, concatenate\n",
    "from keras.optimizers import RMSprop\n",
    "from keras import backend as K\n",
    "from keras.models import load_model\n",
    "\n",
    "filepath = join(root, 'model_heavy.h5')\n",
    "print('model:', filepath)\n",
    "\n",
    "if isfile(filepath):\n",
    "    model = load_model(filepath)\n",
    "else:\n",
    "    seq = Sequential()\n",
    "    seq.add(DenseNet121(weights='imagenet', input_shape=(221, 221, 3),\n",
    "        include_top=False, pooling='avg'))\n",
    "    seq.add(Flatten())\n",
    "\n",
    "    input_a = Input(shape=(221, 221, 3))\n",
    "    input_b = Input(shape=(221, 221, 3))\n",
    "\n",
    "    out_a = seq(input_a)\n",
    "    out_b = seq(input_b)\n",
    "\n",
    "    concatenated = concatenate([out_a, out_b])\n",
    "    hidden_drp1 = Dropout(0.5)(concatenated)\n",
    "    hidden = Dense(32, activation='relu')(hidden_drp1)\n",
    "    hidden_drp2 = Dropout(0.5)(hidden)\n",
    "    out = Dense(1, activation='sigmoid')(hidden_drp2)\n",
    "\n",
    "    model = Model([input_a, input_b], out)"
   ]
  },
  {
   "cell_type": "code",
   "execution_count": null,
   "metadata": {},
   "outputs": [],
   "source": [
    "from keras.optimizers import SGD, RMSprop, Nadam, Adam, Adadelta\n",
    "\n",
    "#optimizer = Nadam()\n",
    "#optimizer = SGD(lr=0.0001, decay=1e-6, momentum=0.9, nesterov=True)\n",
    "optimizer = Nadam(lr=0.00001)\n",
    "loss = 'binary_crossentropy'\n",
    "metrics = ['binary_accuracy', 'acc']\n",
    "\n",
    "model.compile(loss=loss,\n",
    "              optimizer=optimizer,\n",
    "              metrics=metrics)\n",
    "\n",
    "model.summary()"
   ]
  },
  {
   "cell_type": "code",
   "execution_count": null,
   "metadata": {},
   "outputs": [],
   "source": [
    "from keras.callbacks import ModelCheckpoint, TerminateOnNaN\n",
    "\n",
    "checkpoint = ModelCheckpoint(filepath, \n",
    "                             monitor='loss', \n",
    "                             verbose=1, \n",
    "                             save_best_only=True, mode='min')\n",
    "callbacks_list = [checkpoint, TerminateOnNaN()]\n",
    "\n",
    "history = model.fit_generator(generate_training(), \n",
    "                             validation_data=generate_test(),\n",
    "                             validation_steps=5,\n",
    "                             steps_per_epoch=100,\n",
    "                             epochs=2000,\n",
    "                             callbacks=callbacks_list)\n",
    "\n",
    "acc = history.history['val_binary_accuracy']\n",
    "tacc = history.history['binary_accuracy']\n",
    "\n",
    "plt.plot(range(len(acc)), acc)\n",
    "plt.plot(range(len(tacc)), tacc)\n",
    "plt.show()"
   ]
  },
  {
   "cell_type": "code",
   "execution_count": null,
   "metadata": {},
   "outputs": [],
   "source": [
    "# model = load_model(filepath)\n",
    "# (Xa, Xb), Y = next(gen)\n",
    "\n",
    "# Y_pred = model.predict([Xa, Xb])\n",
    "# for a, b in zip(Y, Y_pred):\n",
    "#     print((a, np.squeeze(b)))"
   ]
  }
 ],
 "metadata": {
  "kernelspec": {
   "display_name": "Python 3",
   "language": "python",
   "name": "python3"
  },
  "language_info": {
   "codemirror_mode": {
    "name": "ipython",
    "version": 3
   },
   "file_extension": ".py",
   "mimetype": "text/x-python",
   "name": "python",
   "nbconvert_exporter": "python",
   "pygments_lexer": "ipython3",
   "version": "3.6.4"
  }
 },
 "nbformat": 4,
 "nbformat_minor": 2
}
