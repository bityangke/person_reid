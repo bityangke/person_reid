{
 "cells": [
  {
   "cell_type": "code",
   "execution_count": null,
   "metadata": {},
   "outputs": [],
   "source": [
    "%matplotlib inline\n",
    "from pak.datasets.Market1501 import Market1501\n",
    "import matplotlib.pyplot as plt\n",
    "from keras.models import load_model\n",
    "import sys\n",
    "sys.path.insert(0, '../')\n",
    "from reid import reid\n",
    "\n",
    "root = 'data_storage'\n",
    "m1501 = Market1501(root)\n",
    "X, Y = m1501.get_train()\n",
    "\n",
    "\n",
    "\n",
    "model = reid.ReId()\n",
    "\n",
    "\n",
    "def predict(A, B):\n",
    "    pass\n",
    "\n",
    "\n",
    "# ==== same ====\n",
    "im1 = X[0]\n",
    "im2 = X[200]\n",
    "\n",
    "fig = plt.figure(figsize=(5,5))\n",
    "ax = fig.add_subplot(121); ax.axis('off')\n",
    "ax.imshow(im1)\n",
    "ax = fig.add_subplot(122); ax.axis('off')\n",
    "ax.imshow(im2)\n",
    "plt.show()"
   ]
  },
  {
   "cell_type": "code",
   "execution_count": null,
   "metadata": {},
   "outputs": [],
   "source": [
    "score = model.predict(im1, im2)"
   ]
  }
 ],
 "metadata": {
  "kernelspec": {
   "display_name": "Python 3",
   "language": "python",
   "name": "python3"
  },
  "language_info": {
   "codemirror_mode": {
    "name": "ipython",
    "version": 3
   },
   "file_extension": ".py",
   "mimetype": "text/x-python",
   "name": "python",
   "nbconvert_exporter": "python",
   "pygments_lexer": "ipython3",
   "version": "3.6.4"
  }
 },
 "nbformat": 4,
 "nbformat_minor": 2
}
